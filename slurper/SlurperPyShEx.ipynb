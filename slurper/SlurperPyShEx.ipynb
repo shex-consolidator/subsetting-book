{
 "cells": [
  {
   "cell_type": "code",
   "execution_count": 2,
   "metadata": {
    "collapsed": true,
    "ExecuteTime": {
     "end_time": "2023-06-27T08:11:02.721455Z",
     "start_time": "2023-06-27T08:11:02.622891Z"
    }
   },
   "outputs": [],
   "source": [
    "from pyshex.shex_evaluator import evaluate_cli as shexeval\n",
    "from pyshex import shex_evaluator\n",
    "from sparqlslurper import SlurpyGraph"
   ]
  },
  {
   "cell_type": "code",
   "execution_count": 9,
   "outputs": [
    {
     "name": "stdout",
     "output_type": "stream",
     "text": [
      "usage: ipykernel_launcher.py [-h] [-f FORMAT] [-s START] [-ut]\n",
      "                             [-sp STARTPREDICATE] [-fn FOCUS] [-A] [-d] [-ss]\n",
      "                             [-ssg] [-cf] [-sq SPARQL] [-se]\n",
      "                             [--stopafter STOPAFTER] [-ps] [-pr]\n",
      "                             [-gn GRAPHNAME] [-pb] [--useragent USERAGENT]\n",
      "                             rdf shex\n",
      "\n",
      "positional arguments:\n",
      "  rdf                   Input RDF file or SPARQL endpoint if slurper or sparql\n",
      "                        options\n",
      "  shex                  ShEx specification\n",
      "\n",
      "options:\n",
      "  -h, --help            show this help message and exit\n",
      "  -f FORMAT, --format FORMAT\n",
      "                        Input RDF Format\n",
      "  -s START, --start START\n",
      "                        Start shape. If absent use ShEx start node.\n",
      "  -ut, --usetype        Start shape is rdf:type of focus\n",
      "  -sp STARTPREDICATE, --startpredicate STARTPREDICATE\n",
      "                        Start shape is object of this predicate\n",
      "  -fn FOCUS, --focus FOCUS\n",
      "                        RDF focus node\n",
      "  -A, --allsubjects     Evaluate all non-bnode subjects in the graph\n",
      "  -d, --debug           Add debug output\n",
      "  -ss, --slurper        Use SPARQL slurper graph\n",
      "  -ssg, --gdbslurper    Use GraphDB specific slurper to persistent BNodes\n",
      "  -cf, --flattener      Use RDF Collections flattener graph\n",
      "  -sq SPARQL, --sparql SPARQL\n",
      "                        SPARQL query to generate focus nodes\n",
      "  -se, --stoponerror    Stop on an error\n",
      "  --stopafter STOPAFTER\n",
      "                        Stop after N nodes\n",
      "  -ps, --printsparql    Print SPARQL queries as they are executed\n",
      "  -pr, --printsparqlresults\n",
      "                        Print SPARQL query and results\n",
      "  -gn GRAPHNAME, --graphname GRAPHNAME\n",
      "                        Specific SPARQL graph to query - use '' for any named\n",
      "                        graph\n",
      "  -pb, --persistbnodes  Treat BNodes as persistent in SPARQL endpoint\n",
      "  --useragent USERAGENT\n",
      "                        Use this user agent in the SPARQL Queries (Default:\n",
      "                        \"PyShEx/0.7.18 (https://github.com/hsolbrig/PyShEx;\n",
      "                        solbrig@jhu.edu)\")\n"
     ]
    },
    {
     "ename": "SystemExit",
     "evalue": "0",
     "output_type": "error",
     "traceback": [
      "An exception has occurred, use %tb to see the full traceback.\n",
      "\u001B[0;31mSystemExit\u001B[0m\u001B[0;31m:\u001B[0m 0\n"
     ]
    }
   ],
   "source": [
    "from pyshex.user_agent import SlurpyGraphWithAgent\n",
    "permagraph = None\n",
    "\n",
    "def persistent_slurper(rdf: str, *args, **kwargs) -> SlurpyGraph:\n",
    "    global permagraph\n",
    "    permagraph = SlurpyGraphWithAgent(rdf, *args, **kwargs)\n",
    "    return permagraph\n",
    "\n",
    "shex_evaluator.SlurpyGraphWithAgent = persistent_slurper\n",
    "\n",
    "sparql_query = \"\"\"\n",
    "PREFIX wdt: <http://www.wikidata.org/prop/direct/>\n",
    "PREFIX wd: <http://www.wikidata.org/entity/>\n",
    "\n",
    "SELECT * WHERE {\n",
    "   ?item wdt:P699 ?doid .\n",
    "}\n",
    "\"\"\"\n",
    "# shexeval(['-h'])\n",
    "\n",
    "x = [\"--slurper\",\n",
    "     \"-s\",  \"http://example.org/disease\",\n",
    "     \"-sq\", sparql_query,\n",
    "     \"http://query.wikidata.org/sparql\",\n",
    "     \"https://raw.githubusercontent.com/kg-subsetting/biohackathon2020/main/use_cases/genewiki/genewiki.shex\",\n",
    "     \"--stopafter\", \"1\",\n",
    "     \"-ps\",\n",
    "     \"--help\"]\n",
    "shexeval(x)\n",
    "print()\n",
    "print(\"RESULT Graph:\")\n",
    "print(permagraph.serialize(format=\"turtle\").decode())"
   ],
   "metadata": {
    "collapsed": false,
    "ExecuteTime": {
     "end_time": "2023-06-27T09:13:50.598749Z",
     "start_time": "2023-06-27T09:13:50.421958Z"
    }
   }
  },
  {
   "cell_type": "code",
   "execution_count": 6,
   "outputs": [],
   "source": [
    "uniprotgraph = None\n",
    "\n",
    "def uniprotSubset_slurper(rdf: str, *args, **kwargs) -> SlurpyGraph:\n",
    "    global uniprotgraph\n",
    "    uniprotgraph = SlurpyGraphWithAgent(rdf, *args, **kwargs)\n",
    "    return uniprotgraph\n",
    "\n",
    "shex_evaluator.SlurpyGraphWithAgent = uniprotSubset_slurper\n",
    "\n"
   ],
   "metadata": {
    "collapsed": false,
    "ExecuteTime": {
     "end_time": "2023-06-27T09:01:38.382464Z",
     "start_time": "2023-06-27T09:01:38.293433Z"
    }
   }
  },
  {
   "cell_type": "code",
   "execution_count": 10,
   "outputs": [],
   "source": [
    "import os\n",
    "import gzip\n",
    "from rdflib import Graph\n",
    "\n",
    "def parse_ttl_gz_files(folder_path, output_path):\n",
    "    graph = Graph()\n",
    "\n",
    "    for file_name in os.listdir(folder_path):\n",
    "        if file_name.endswith('.ttl.gz'):\n",
    "            file_path = os.path.join(folder_path, file_name)\n",
    "\n",
    "            # Open the gzipped file and parse it as RDF\n",
    "            with gzip.open(file_path, 'rt') as file:\n",
    "                graph.parse(file, format='ttl')\n",
    "\n",
    "    # Serialize the graph to a file or a string\n",
    "    graph.serialize(destination=output_path, format='turtle')  # Change format if needed\n",
    "\n",
    "folder_path = 'RDF/dbcls/'  # Specify the folder path\n",
    "output_path = 'RDF/DBCLS_example.ttl'  # Specify the output file path\n",
    "\n",
    "parse_ttl_gz_files(folder_path, output_path)\n"
   ],
   "metadata": {
    "collapsed": false,
    "ExecuteTime": {
     "end_time": "2023-06-27T21:36:08.474256Z",
     "start_time": "2023-06-27T21:35:48.745795Z"
    }
   }
  },
  {
   "cell_type": "code",
   "execution_count": 14,
   "outputs": [],
   "source": [
    "import os\n",
    "import gzip\n",
    "from rdflib import Graph\n",
    "\n",
    "def parse_ttl_gz_files(folder_path, output_path):\n",
    "    graph = Graph()\n",
    "\n",
    "    for root, dirs, files in os.walk(folder_path):\n",
    "        for file_name in files:\n",
    "            if file_name.endswith('.ttl'):\n",
    "                file_path = os.path.join(root, file_name)\n",
    "\n",
    "                # Open the gzipped file and parse it as RDF\n",
    "                with open(file_path, 'r') as file:\n",
    "                    graph.parse(file, format='ttl')\n",
    "\n",
    "    # Serialize the graph to a string\n",
    "    rdf_data = graph.serialize(format='turtle')  # Change format to 'turtle' for TTL\n",
    "\n",
    "    # Compress and save the serialized graph to a gzipped file\n",
    "    with gzip.open(output_path, 'wt') as output_file:\n",
    "        output_file.write(rdf_data)\n",
    "\n",
    "folder_path = 'RDF/wp/'  # Specify the folder path\n",
    "output_path = 'RDF/WikiPathways_example.ttl.gz'  # Specify the output file path with .gz extension\n",
    "\n",
    "parse_ttl_gz_files(folder_path, output_path)\n"
   ],
   "metadata": {
    "collapsed": false,
    "ExecuteTime": {
     "end_time": "2023-06-27T21:58:50.927687Z",
     "start_time": "2023-06-27T21:55:24.173336Z"
    }
   }
  },
  {
   "cell_type": "code",
   "execution_count": null,
   "outputs": [],
   "source": [],
   "metadata": {
    "collapsed": false
   }
  }
 ],
 "metadata": {
  "kernelspec": {
   "display_name": "Python 3",
   "language": "python",
   "name": "python3"
  },
  "language_info": {
   "codemirror_mode": {
    "name": "ipython",
    "version": 2
   },
   "file_extension": ".py",
   "mimetype": "text/x-python",
   "name": "python",
   "nbconvert_exporter": "python",
   "pygments_lexer": "ipython2",
   "version": "2.7.6"
  }
 },
 "nbformat": 4,
 "nbformat_minor": 0
}
